{
 "cells": [
  {
   "cell_type": "code",
   "execution_count": 1,
   "id": "dd4bb736",
   "metadata": {
    "ExecuteTime": {
     "end_time": "2023-05-20T13:18:46.966939400Z",
     "start_time": "2023-05-20T13:18:42.473761700Z"
    }
   },
   "outputs": [],
   "source": [
    "import pandas as pd\n",
    "import numpy as np\n",
    "import seaborn as sns\n",
    "import matplotlib.pyplot as plt\n",
    "# import catboost as cat\n",
    "from sklearn import linear_model as lm\n",
    "from sklearn.linear_model import LinearRegression\n",
    "from sklearn.preprocessing import SplineTransformer, OneHotEncoder, StandardScaler\n",
    "from sklearn.metrics import mean_squared_error"
   ]
  },
  {
   "cell_type": "code",
   "execution_count": 55,
   "id": "26412802",
   "metadata": {
    "ExecuteTime": {
     "end_time": "2023-05-20T14:23:06.232711700Z",
     "start_time": "2023-05-20T14:23:06.204613300Z"
    }
   },
   "outputs": [],
   "source": [
    "houses = pd.read_csv(\"data\\\\real_estate_train.csv\")"
   ]
  },
  {
   "cell_type": "code",
   "execution_count": 56,
   "outputs": [
    {
     "name": "stdout",
     "output_type": "stream",
     "text": [
      "<class 'pandas.core.frame.DataFrame'>\n",
      "RangeIndex: 1460 entries, 0 to 1459\n",
      "Data columns (total 81 columns):\n",
      " #   Column         Non-Null Count  Dtype  \n",
      "---  ------         --------------  -----  \n",
      " 0   Id             1460 non-null   int64  \n",
      " 1   MSSubClass     1460 non-null   int64  \n",
      " 2   MSZoning       1460 non-null   object \n",
      " 3   LotFrontage    1201 non-null   float64\n",
      " 4   LotArea        1460 non-null   int64  \n",
      " 5   Street         1460 non-null   object \n",
      " 6   Alley          91 non-null     object \n",
      " 7   LotShape       1460 non-null   object \n",
      " 8   LandContour    1460 non-null   object \n",
      " 9   Utilities      1460 non-null   object \n",
      " 10  LotConfig      1460 non-null   object \n",
      " 11  LandSlope      1460 non-null   object \n",
      " 12  Neighborhood   1460 non-null   object \n",
      " 13  Condition1     1460 non-null   object \n",
      " 14  Condition2     1460 non-null   object \n",
      " 15  BldgType       1460 non-null   object \n",
      " 16  HouseStyle     1460 non-null   object \n",
      " 17  OverallQual    1460 non-null   int64  \n",
      " 18  OverallCond    1460 non-null   int64  \n",
      " 19  YearBuilt      1460 non-null   int64  \n",
      " 20  YearRemodAdd   1460 non-null   int64  \n",
      " 21  RoofStyle      1460 non-null   object \n",
      " 22  RoofMatl       1460 non-null   object \n",
      " 23  Exterior1st    1460 non-null   object \n",
      " 24  Exterior2nd    1460 non-null   object \n",
      " 25  MasVnrType     1452 non-null   object \n",
      " 26  MasVnrArea     1452 non-null   float64\n",
      " 27  ExterQual      1460 non-null   object \n",
      " 28  ExterCond      1460 non-null   object \n",
      " 29  Foundation     1460 non-null   object \n",
      " 30  BsmtQual       1423 non-null   object \n",
      " 31  BsmtCond       1423 non-null   object \n",
      " 32  BsmtExposure   1422 non-null   object \n",
      " 33  BsmtFinType1   1423 non-null   object \n",
      " 34  BsmtFinSF1     1460 non-null   int64  \n",
      " 35  BsmtFinType2   1422 non-null   object \n",
      " 36  BsmtFinSF2     1460 non-null   int64  \n",
      " 37  BsmtUnfSF      1460 non-null   int64  \n",
      " 38  TotalBsmtSF    1460 non-null   int64  \n",
      " 39  Heating        1460 non-null   object \n",
      " 40  HeatingQC      1460 non-null   object \n",
      " 41  CentralAir     1460 non-null   object \n",
      " 42  Electrical     1459 non-null   object \n",
      " 43  1stFlrSF       1460 non-null   int64  \n",
      " 44  2ndFlrSF       1460 non-null   int64  \n",
      " 45  LowQualFinSF   1460 non-null   int64  \n",
      " 46  GrLivArea      1460 non-null   int64  \n",
      " 47  BsmtFullBath   1460 non-null   int64  \n",
      " 48  BsmtHalfBath   1460 non-null   int64  \n",
      " 49  FullBath       1460 non-null   int64  \n",
      " 50  HalfBath       1460 non-null   int64  \n",
      " 51  BedroomAbvGr   1460 non-null   int64  \n",
      " 52  KitchenAbvGr   1460 non-null   int64  \n",
      " 53  KitchenQual    1460 non-null   object \n",
      " 54  TotRmsAbvGrd   1460 non-null   int64  \n",
      " 55  Functional     1460 non-null   object \n",
      " 56  Fireplaces     1460 non-null   int64  \n",
      " 57  FireplaceQu    770 non-null    object \n",
      " 58  GarageType     1379 non-null   object \n",
      " 59  GarageYrBlt    1379 non-null   float64\n",
      " 60  GarageFinish   1379 non-null   object \n",
      " 61  GarageCars     1460 non-null   int64  \n",
      " 62  GarageArea     1460 non-null   int64  \n",
      " 63  GarageQual     1379 non-null   object \n",
      " 64  GarageCond     1379 non-null   object \n",
      " 65  PavedDrive     1460 non-null   object \n",
      " 66  WoodDeckSF     1460 non-null   int64  \n",
      " 67  OpenPorchSF    1460 non-null   int64  \n",
      " 68  EnclosedPorch  1460 non-null   int64  \n",
      " 69  3SsnPorch      1460 non-null   int64  \n",
      " 70  ScreenPorch    1460 non-null   int64  \n",
      " 71  PoolArea       1460 non-null   int64  \n",
      " 72  PoolQC         7 non-null      object \n",
      " 73  Fence          281 non-null    object \n",
      " 74  MiscFeature    54 non-null     object \n",
      " 75  MiscVal        1460 non-null   int64  \n",
      " 76  MoSold         1460 non-null   int64  \n",
      " 77  YrSold         1460 non-null   int64  \n",
      " 78  SaleType       1460 non-null   object \n",
      " 79  SaleCondition  1460 non-null   object \n",
      " 80  SalePrice      1460 non-null   int64  \n",
      "dtypes: float64(3), int64(35), object(43)\n",
      "memory usage: 924.0+ KB\n",
      "None\n"
     ]
    },
    {
     "data": {
      "text/plain": "   Id  MSSubClass MSZoning  LotFrontage  LotArea Street Alley LotShape  \\\n0   1          60       RL         65.0     8450   Pave   NaN      Reg   \n1   2          20       RL         80.0     9600   Pave   NaN      Reg   \n2   3          60       RL         68.0    11250   Pave   NaN      IR1   \n3   4          70       RL         60.0     9550   Pave   NaN      IR1   \n4   5          60       RL         84.0    14260   Pave   NaN      IR1   \n\n  LandContour Utilities  ... PoolArea PoolQC Fence MiscFeature MiscVal MoSold  \\\n0         Lvl    AllPub  ...        0    NaN   NaN         NaN       0      2   \n1         Lvl    AllPub  ...        0    NaN   NaN         NaN       0      5   \n2         Lvl    AllPub  ...        0    NaN   NaN         NaN       0      9   \n3         Lvl    AllPub  ...        0    NaN   NaN         NaN       0      2   \n4         Lvl    AllPub  ...        0    NaN   NaN         NaN       0     12   \n\n  YrSold  SaleType  SaleCondition  SalePrice  \n0   2008        WD         Normal     208500  \n1   2007        WD         Normal     181500  \n2   2008        WD         Normal     223500  \n3   2006        WD        Abnorml     140000  \n4   2008        WD         Normal     250000  \n\n[5 rows x 81 columns]",
      "text/html": "<div>\n<style scoped>\n    .dataframe tbody tr th:only-of-type {\n        vertical-align: middle;\n    }\n\n    .dataframe tbody tr th {\n        vertical-align: top;\n    }\n\n    .dataframe thead th {\n        text-align: right;\n    }\n</style>\n<table border=\"1\" class=\"dataframe\">\n  <thead>\n    <tr style=\"text-align: right;\">\n      <th></th>\n      <th>Id</th>\n      <th>MSSubClass</th>\n      <th>MSZoning</th>\n      <th>LotFrontage</th>\n      <th>LotArea</th>\n      <th>Street</th>\n      <th>Alley</th>\n      <th>LotShape</th>\n      <th>LandContour</th>\n      <th>Utilities</th>\n      <th>...</th>\n      <th>PoolArea</th>\n      <th>PoolQC</th>\n      <th>Fence</th>\n      <th>MiscFeature</th>\n      <th>MiscVal</th>\n      <th>MoSold</th>\n      <th>YrSold</th>\n      <th>SaleType</th>\n      <th>SaleCondition</th>\n      <th>SalePrice</th>\n    </tr>\n  </thead>\n  <tbody>\n    <tr>\n      <th>0</th>\n      <td>1</td>\n      <td>60</td>\n      <td>RL</td>\n      <td>65.0</td>\n      <td>8450</td>\n      <td>Pave</td>\n      <td>NaN</td>\n      <td>Reg</td>\n      <td>Lvl</td>\n      <td>AllPub</td>\n      <td>...</td>\n      <td>0</td>\n      <td>NaN</td>\n      <td>NaN</td>\n      <td>NaN</td>\n      <td>0</td>\n      <td>2</td>\n      <td>2008</td>\n      <td>WD</td>\n      <td>Normal</td>\n      <td>208500</td>\n    </tr>\n    <tr>\n      <th>1</th>\n      <td>2</td>\n      <td>20</td>\n      <td>RL</td>\n      <td>80.0</td>\n      <td>9600</td>\n      <td>Pave</td>\n      <td>NaN</td>\n      <td>Reg</td>\n      <td>Lvl</td>\n      <td>AllPub</td>\n      <td>...</td>\n      <td>0</td>\n      <td>NaN</td>\n      <td>NaN</td>\n      <td>NaN</td>\n      <td>0</td>\n      <td>5</td>\n      <td>2007</td>\n      <td>WD</td>\n      <td>Normal</td>\n      <td>181500</td>\n    </tr>\n    <tr>\n      <th>2</th>\n      <td>3</td>\n      <td>60</td>\n      <td>RL</td>\n      <td>68.0</td>\n      <td>11250</td>\n      <td>Pave</td>\n      <td>NaN</td>\n      <td>IR1</td>\n      <td>Lvl</td>\n      <td>AllPub</td>\n      <td>...</td>\n      <td>0</td>\n      <td>NaN</td>\n      <td>NaN</td>\n      <td>NaN</td>\n      <td>0</td>\n      <td>9</td>\n      <td>2008</td>\n      <td>WD</td>\n      <td>Normal</td>\n      <td>223500</td>\n    </tr>\n    <tr>\n      <th>3</th>\n      <td>4</td>\n      <td>70</td>\n      <td>RL</td>\n      <td>60.0</td>\n      <td>9550</td>\n      <td>Pave</td>\n      <td>NaN</td>\n      <td>IR1</td>\n      <td>Lvl</td>\n      <td>AllPub</td>\n      <td>...</td>\n      <td>0</td>\n      <td>NaN</td>\n      <td>NaN</td>\n      <td>NaN</td>\n      <td>0</td>\n      <td>2</td>\n      <td>2006</td>\n      <td>WD</td>\n      <td>Abnorml</td>\n      <td>140000</td>\n    </tr>\n    <tr>\n      <th>4</th>\n      <td>5</td>\n      <td>60</td>\n      <td>RL</td>\n      <td>84.0</td>\n      <td>14260</td>\n      <td>Pave</td>\n      <td>NaN</td>\n      <td>IR1</td>\n      <td>Lvl</td>\n      <td>AllPub</td>\n      <td>...</td>\n      <td>0</td>\n      <td>NaN</td>\n      <td>NaN</td>\n      <td>NaN</td>\n      <td>0</td>\n      <td>12</td>\n      <td>2008</td>\n      <td>WD</td>\n      <td>Normal</td>\n      <td>250000</td>\n    </tr>\n  </tbody>\n</table>\n<p>5 rows × 81 columns</p>\n</div>"
     },
     "execution_count": 56,
     "metadata": {},
     "output_type": "execute_result"
    }
   ],
   "source": [
    "print(houses.info())\n",
    "houses.head()"
   ],
   "metadata": {
    "collapsed": false,
    "ExecuteTime": {
     "end_time": "2023-05-20T14:23:06.546259400Z",
     "start_time": "2023-05-20T14:23:06.498793800Z"
    }
   }
  },
  {
   "cell_type": "code",
   "execution_count": 57,
   "id": "143492e6",
   "metadata": {
    "ExecuteTime": {
     "end_time": "2023-05-20T14:23:07.415170600Z",
     "start_time": "2023-05-20T14:23:07.396575300Z"
    }
   },
   "outputs": [
    {
     "data": {
      "text/plain": "Index(['Id', 'MSSubClass', 'MSZoning', 'LotFrontage', 'LotArea', 'Street',\n       'Alley', 'LotShape', 'LandContour', 'Utilities', 'LotConfig',\n       'LandSlope', 'Neighborhood', 'Condition1', 'Condition2', 'BldgType',\n       'HouseStyle', 'OverallQual', 'OverallCond', 'YearBuilt', 'YearRemodAdd',\n       'RoofStyle', 'RoofMatl', 'Exterior1st', 'Exterior2nd', 'MasVnrType',\n       'MasVnrArea', 'ExterQual', 'ExterCond', 'Foundation', 'BsmtQual',\n       'BsmtCond', 'BsmtExposure', 'BsmtFinType1', 'BsmtFinSF1',\n       'BsmtFinType2', 'BsmtFinSF2', 'BsmtUnfSF', 'TotalBsmtSF', 'Heating',\n       'HeatingQC', 'CentralAir', 'Electrical', '1stFlrSF', '2ndFlrSF',\n       'LowQualFinSF', 'GrLivArea', 'BsmtFullBath', 'BsmtHalfBath', 'FullBath',\n       'HalfBath', 'BedroomAbvGr', 'KitchenAbvGr', 'KitchenQual',\n       'TotRmsAbvGrd', 'Functional', 'Fireplaces', 'FireplaceQu', 'GarageType',\n       'GarageYrBlt', 'GarageFinish', 'GarageCars', 'GarageArea', 'GarageQual',\n       'GarageCond', 'PavedDrive', 'WoodDeckSF', 'OpenPorchSF',\n       'EnclosedPorch', '3SsnPorch', 'ScreenPorch', 'PoolArea', 'PoolQC',\n       'Fence', 'MiscFeature', 'MiscVal', 'MoSold', 'YrSold', 'SaleType',\n       'SaleCondition', 'SalePrice'],\n      dtype='object')"
     },
     "execution_count": 57,
     "metadata": {},
     "output_type": "execute_result"
    }
   ],
   "source": [
    "houses.columns"
   ]
  },
  {
   "cell_type": "markdown",
   "id": "9959d908",
   "metadata": {},
   "source": [
    "---\n",
    "# EDA"
   ]
  },
  {
   "cell_type": "markdown",
   "source": [
    "---\n",
    "## Target vector"
   ],
   "metadata": {
    "collapsed": false
   }
  },
  {
   "cell_type": "markdown",
   "source": [
    "### Treating SalePrice"
   ],
   "metadata": {
    "collapsed": false
   }
  },
  {
   "cell_type": "code",
   "execution_count": 58,
   "outputs": [],
   "source": [
    "houses[\"log_SalePrice\"] = np.log(houses[\"SalePrice\"])\n",
    "houses = houses.drop(columns=[\"SalePrice\"])"
   ],
   "metadata": {
    "collapsed": false,
    "ExecuteTime": {
     "end_time": "2023-05-20T14:23:08.749223300Z",
     "start_time": "2023-05-20T14:23:08.724283Z"
    }
   }
  },
  {
   "cell_type": "markdown",
   "source": [
    "---\n",
    "## Categorical"
   ],
   "metadata": {
    "collapsed": false
   }
  },
  {
   "cell_type": "markdown",
   "source": [
    "### Treating MSSubClass"
   ],
   "metadata": {
    "collapsed": false
   }
  },
  {
   "cell_type": "markdown",
   "source": [
    "##### As per the documentation, MSSubClass identifies the type of dwelling involved in the sale."
   ],
   "metadata": {
    "collapsed": false
   }
  },
  {
   "cell_type": "code",
   "execution_count": 59,
   "outputs": [
    {
     "data": {
      "text/plain": "0    60\n1    20\n2    60\n3    70\n4    60\nName: MSSubClass, dtype: object"
     },
     "execution_count": 59,
     "metadata": {},
     "output_type": "execute_result"
    }
   ],
   "source": [
    "houses[\"MSSubClass\"] = houses[\"MSSubClass\"].astype(str)\n",
    "houses[\"MSSubClass\"].head()"
   ],
   "metadata": {
    "collapsed": false,
    "ExecuteTime": {
     "end_time": "2023-05-20T14:23:09.343821300Z",
     "start_time": "2023-05-20T14:23:09.293430800Z"
    }
   }
  },
  {
   "cell_type": "markdown",
   "source": [
    "---\n",
    "## Treating NAN"
   ],
   "metadata": {
    "collapsed": false
   }
  },
  {
   "cell_type": "code",
   "execution_count": 60,
   "outputs": [
    {
     "data": {
      "text/plain": "PoolQC           1453\nMiscFeature      1406\nAlley            1369\nFence            1179\nFireplaceQu       690\nGarageType         81\nGarageFinish       81\nGarageCond         81\nGarageQual         81\nBsmtFinType2       38\nBsmtExposure       38\nBsmtCond           37\nBsmtFinType1       37\nBsmtQual           37\nMasVnrType          8\nElectrical          1\nPavedDrive          0\nFunctional          0\nKitchenQual         0\nCentralAir          0\nHeatingQC           0\nHeating             0\nSaleType            0\nMSSubClass          0\nMSZoning            0\nFoundation          0\nStreet              0\nLotShape            0\nLandContour         0\nUtilities           0\nLotConfig           0\nLandSlope           0\nNeighborhood        0\nCondition1          0\nCondition2          0\nBldgType            0\nHouseStyle          0\nRoofStyle           0\nRoofMatl            0\nExterior1st         0\nExterior2nd         0\nExterQual           0\nExterCond           0\nSaleCondition       0\ndtype: int64"
     },
     "execution_count": 60,
     "metadata": {},
     "output_type": "execute_result"
    }
   ],
   "source": [
    "houses.select_dtypes(\"object\").isna().sum().sort_values(ascending=False)"
   ],
   "metadata": {
    "collapsed": false,
    "ExecuteTime": {
     "end_time": "2023-05-20T14:23:10.059942800Z",
     "start_time": "2023-05-20T14:23:10.021055900Z"
    }
   }
  },
  {
   "cell_type": "markdown",
   "source": [
    "### Treating Pool"
   ],
   "metadata": {
    "collapsed": false
   }
  },
  {
   "cell_type": "markdown",
   "source": [
    "##### NAN values in the \"PoolQC\" column are due to lack of pool in certain houses."
   ],
   "metadata": {
    "collapsed": false
   }
  },
  {
   "cell_type": "code",
   "execution_count": 61,
   "outputs": [
    {
     "data": {
      "text/plain": "  PoolQC  PoolArea\n0    NaN         0\n1    NaN         0\n2    NaN         0\n3    NaN         0\n4    NaN         0",
      "text/html": "<div>\n<style scoped>\n    .dataframe tbody tr th:only-of-type {\n        vertical-align: middle;\n    }\n\n    .dataframe tbody tr th {\n        vertical-align: top;\n    }\n\n    .dataframe thead th {\n        text-align: right;\n    }\n</style>\n<table border=\"1\" class=\"dataframe\">\n  <thead>\n    <tr style=\"text-align: right;\">\n      <th></th>\n      <th>PoolQC</th>\n      <th>PoolArea</th>\n    </tr>\n  </thead>\n  <tbody>\n    <tr>\n      <th>0</th>\n      <td>NaN</td>\n      <td>0</td>\n    </tr>\n    <tr>\n      <th>1</th>\n      <td>NaN</td>\n      <td>0</td>\n    </tr>\n    <tr>\n      <th>2</th>\n      <td>NaN</td>\n      <td>0</td>\n    </tr>\n    <tr>\n      <th>3</th>\n      <td>NaN</td>\n      <td>0</td>\n    </tr>\n    <tr>\n      <th>4</th>\n      <td>NaN</td>\n      <td>0</td>\n    </tr>\n  </tbody>\n</table>\n</div>"
     },
     "execution_count": 61,
     "metadata": {},
     "output_type": "execute_result"
    }
   ],
   "source": [
    "houses[houses[\"PoolQC\"].isna()][[\"PoolQC\", \"PoolArea\"]].head(5)"
   ],
   "metadata": {
    "collapsed": false,
    "ExecuteTime": {
     "end_time": "2023-05-20T14:23:10.911260500Z",
     "start_time": "2023-05-20T14:23:10.884317400Z"
    }
   }
  },
  {
   "cell_type": "code",
   "execution_count": 82,
   "outputs": [
    {
     "data": {
      "text/plain": "PoolQC      0\nPoolArea    1\nHasPool     1\ndtype: int64"
     },
     "execution_count": 82,
     "metadata": {},
     "output_type": "execute_result"
    }
   ],
   "source": [
    "houses[\"HasPool\"] = houses[\"PoolArea\"].apply(lambda area: \"yes\" if area == 0 else \"no\")\n",
    "houses[houses[\"PoolQC\"].isna()][[\"PoolQC\", \"PoolArea\", \"HasPool\"]].nunique()"
   ],
   "metadata": {
    "collapsed": false,
    "ExecuteTime": {
     "end_time": "2023-05-20T15:07:29.100176300Z",
     "start_time": "2023-05-20T15:07:29.052517Z"
    }
   }
  },
  {
   "cell_type": "markdown",
   "source": [
    "### Treating MiscFeature"
   ],
   "metadata": {
    "collapsed": false
   }
  },
  {
   "cell_type": "markdown",
   "source": [
    "##### NAN values in the \"MiscFeature\" column are due to lack of additional features in certain houses."
   ],
   "metadata": {
    "collapsed": false
   }
  },
  {
   "cell_type": "code",
   "execution_count": 63,
   "outputs": [
    {
     "data": {
      "text/plain": "Shed    49\nGar2     2\nOthr     2\nTenC     1\nName: MiscFeature, dtype: int64"
     },
     "execution_count": 63,
     "metadata": {},
     "output_type": "execute_result"
    }
   ],
   "source": [
    "houses[\"MiscFeature\"].value_counts(normalize=False)"
   ],
   "metadata": {
    "collapsed": false,
    "ExecuteTime": {
     "end_time": "2023-05-20T14:23:12.323116500Z",
     "start_time": "2023-05-20T14:23:12.308585200Z"
    }
   }
  },
  {
   "cell_type": "code",
   "execution_count": 64,
   "outputs": [
    {
     "data": {
      "text/plain": "None    1406\nShed      49\nGar2       2\nOthr       2\nTenC       1\nName: MinscFeature, dtype: int64"
     },
     "execution_count": 64,
     "metadata": {},
     "output_type": "execute_result"
    }
   ],
   "source": [
    "houses[\"MinscFeature\"] = houses[\"MiscFeature\"].fillna(\"None\")\n",
    "houses[\"MinscFeature\"].value_counts()"
   ],
   "metadata": {
    "collapsed": false,
    "ExecuteTime": {
     "end_time": "2023-05-20T14:23:12.729276700Z",
     "start_time": "2023-05-20T14:23:12.692494200Z"
    }
   }
  },
  {
   "cell_type": "markdown",
   "source": [
    "### Treating Alley"
   ],
   "metadata": {
    "collapsed": false
   }
  },
  {
   "cell_type": "markdown",
   "source": [
    "##### NAN values in the \"Alley\" column are due to lack of alleys in certain houses."
   ],
   "metadata": {
    "collapsed": false
   }
  },
  {
   "cell_type": "code",
   "execution_count": 65,
   "outputs": [
    {
     "data": {
      "text/plain": "Grvl    50\nPave    41\nName: Alley, dtype: int64"
     },
     "execution_count": 65,
     "metadata": {},
     "output_type": "execute_result"
    }
   ],
   "source": [
    "houses[\"Alley\"].value_counts()"
   ],
   "metadata": {
    "collapsed": false,
    "ExecuteTime": {
     "end_time": "2023-05-20T14:23:13.532915900Z",
     "start_time": "2023-05-20T14:23:13.518388100Z"
    }
   }
  },
  {
   "cell_type": "code",
   "execution_count": 66,
   "outputs": [
    {
     "data": {
      "text/plain": "None    1369\nGrvl      50\nPave      41\nName: Alley, dtype: int64"
     },
     "execution_count": 66,
     "metadata": {},
     "output_type": "execute_result"
    }
   ],
   "source": [
    "houses[\"Alley\"] = houses[\"Alley\"].fillna(\"None\")\n",
    "houses[\"Alley\"].value_counts()"
   ],
   "metadata": {
    "collapsed": false,
    "ExecuteTime": {
     "end_time": "2023-05-20T14:23:13.687866500Z",
     "start_time": "2023-05-20T14:23:13.680484400Z"
    }
   }
  },
  {
   "cell_type": "markdown",
   "source": [
    "### Treating Fence"
   ],
   "metadata": {
    "collapsed": false
   }
  },
  {
   "cell_type": "markdown",
   "source": [
    "##### NAN values in the \"Fence\" column are due to lack of fences in certain houses."
   ],
   "metadata": {
    "collapsed": false
   }
  },
  {
   "cell_type": "code",
   "execution_count": 67,
   "outputs": [
    {
     "data": {
      "text/plain": "MnPrv    157\nGdPrv     59\nGdWo      54\nMnWw      11\nName: Fence, dtype: int64"
     },
     "execution_count": 67,
     "metadata": {},
     "output_type": "execute_result"
    }
   ],
   "source": [
    "houses[\"Fence\"].value_counts()"
   ],
   "metadata": {
    "collapsed": false,
    "ExecuteTime": {
     "end_time": "2023-05-20T14:23:14.142380400Z",
     "start_time": "2023-05-20T14:23:14.111365300Z"
    }
   }
  },
  {
   "cell_type": "code",
   "execution_count": 68,
   "outputs": [
    {
     "data": {
      "text/plain": "None     1179\nMnPrv     157\nGdPrv      59\nGdWo       54\nMnWw       11\nName: Fence, dtype: int64"
     },
     "execution_count": 68,
     "metadata": {},
     "output_type": "execute_result"
    }
   ],
   "source": [
    "houses[\"Fence\"] = houses[\"Fence\"].fillna(\"None\")\n",
    "houses[\"Fence\"].value_counts()"
   ],
   "metadata": {
    "collapsed": false,
    "ExecuteTime": {
     "end_time": "2023-05-20T14:23:14.286506900Z",
     "start_time": "2023-05-20T14:23:14.263480Z"
    }
   }
  },
  {
   "cell_type": "markdown",
   "source": [
    "### Treating FireplaceQu"
   ],
   "metadata": {
    "collapsed": false
   }
  },
  {
   "cell_type": "code",
   "execution_count": 69,
   "outputs": [
    {
     "data": {
      "text/plain": "Gd    380\nTA    313\nFa     33\nEx     24\nPo     20\nName: FireplaceQu, dtype: int64"
     },
     "execution_count": 69,
     "metadata": {},
     "output_type": "execute_result"
    }
   ],
   "source": [
    "houses[\"FireplaceQu\"].value_counts()"
   ],
   "metadata": {
    "collapsed": false,
    "ExecuteTime": {
     "end_time": "2023-05-20T14:23:14.947196500Z",
     "start_time": "2023-05-20T14:23:14.933039600Z"
    }
   }
  },
  {
   "cell_type": "code",
   "execution_count": 70,
   "outputs": [],
   "source": [
    "houses[\"FireplaceQu\"] = houses[\"FireplaceQu\"].fillna(\"None\")"
   ],
   "metadata": {
    "collapsed": false,
    "ExecuteTime": {
     "end_time": "2023-05-20T14:23:15.306645200Z",
     "start_time": "2023-05-20T14:23:15.293129300Z"
    }
   }
  },
  {
   "cell_type": "code",
   "execution_count": 71,
   "outputs": [
    {
     "data": {
      "text/plain": "None    690\nGd      380\nTA      313\nFa       33\nEx       24\nPo       20\nName: FireplaceQu, dtype: int64"
     },
     "execution_count": 71,
     "metadata": {},
     "output_type": "execute_result"
    }
   ],
   "source": [
    "houses[\"FireplaceQu\"].value_counts()"
   ],
   "metadata": {
    "collapsed": false,
    "ExecuteTime": {
     "end_time": "2023-05-20T14:23:15.703711400Z",
     "start_time": "2023-05-20T14:23:15.693200700Z"
    }
   }
  },
  {
   "cell_type": "markdown",
   "source": [
    "--------\n",
    "## Pipeline Building"
   ],
   "metadata": {
    "collapsed": false
   }
  },
  {
   "cell_type": "code",
   "execution_count": 91,
   "outputs": [],
   "source": [
    "# Make Pipeline\n",
    "from sklearn.pipeline import Pipeline, make_pipeline\n",
    "from sklearn.model_selection import train_test_split\n",
    "from sklearn.model_selection import GridSearchCV\n",
    "from sklearn.compose import ColumnTransformer\n",
    "\n",
    "from sklearn.metrics import mean_squared_error, accuracy_score, f1_score\n",
    "from catboost import CatBoostRegressor\n",
    "# Categorical variables Pipeline\n",
    "from sklearn.impute import SimpleImputer\n",
    "from sklearn.preprocessing import OneHotEncoder\n",
    "\n",
    "# numerical variables Pipeline\n",
    "from sklearn.impute import SimpleImputer\n",
    "from sklearn.preprocessing import StandardScaler\n",
    "from sklearn.decomposition import PCA"
   ],
   "metadata": {
    "collapsed": false,
    "ExecuteTime": {
     "end_time": "2023-05-20T15:25:03.603054300Z",
     "start_time": "2023-05-20T15:25:03.593488200Z"
    }
   }
  },
  {
   "cell_type": "code",
   "execution_count": 83,
   "outputs": [],
   "source": [
    "X = houses.drop(columns=[\"log_SalePrice\"])\n",
    "y = houses[\"log_SalePrice\"]\n",
    "X_train, X_test, y_train, y_test = train_test_split(X, y, test_size=0.10, random_state=42)\n",
    "\n",
    "y = houses[\"log_SalePrice\"]"
   ],
   "metadata": {
    "collapsed": false,
    "ExecuteTime": {
     "end_time": "2023-05-20T15:07:37.181747200Z",
     "start_time": "2023-05-20T15:07:37.166325400Z"
    }
   }
  },
  {
   "cell_type": "code",
   "execution_count": 84,
   "outputs": [],
   "source": [
    "# Cat and num variables\n",
    "cat_vars = list(X.select_dtypes(\"object\"))\n",
    "num_vars = list(X.select_dtypes(\"number\"))"
   ],
   "metadata": {
    "collapsed": false,
    "ExecuteTime": {
     "end_time": "2023-05-20T15:16:28.717946700Z",
     "start_time": "2023-05-20T15:16:28.692621Z"
    }
   }
  },
  {
   "cell_type": "code",
   "execution_count": 88,
   "outputs": [
    {
     "data": {
      "text/plain": "Pipeline(steps=[('PREP',\n                 ColumnTransformer(transformers=[('NUMERICOS',\n                                                  Pipeline(steps=[('NUM_IMPUTER',\n                                                                   SimpleImputer(strategy='median')),\n                                                                  ('STD_SCALER',\n                                                                   StandardScaler()),\n                                                                  ('PCA',\n                                                                   PCA())]),\n                                                  ['Id', 'LotFrontage',\n                                                   'LotArea', 'OverallQual',\n                                                   'OverallCond', 'YearBuilt',\n                                                   'YearRemodAdd', 'MasVnrArea',\n                                                   'BsmtFinSF1', 'BsmtFinSF2',\n                                                   'BsmtUnfSF', 'TotalBsmtSF',\n                                                   '1stFlrSF', '2ndFlr...\n                                                   'LandSlope', 'Neighborhood',\n                                                   'Condition1', 'Condition2',\n                                                   'BldgType', 'HouseStyle',\n                                                   'RoofStyle', 'RoofMatl',\n                                                   'Exterior1st', 'Exterior2nd',\n                                                   'MasVnrType', 'ExterQual',\n                                                   'ExterCond', 'Foundation',\n                                                   'BsmtQual', 'BsmtCond',\n                                                   'BsmtExposure',\n                                                   'BsmtFinType1',\n                                                   'BsmtFinType2', 'Heating',\n                                                   'HeatingQC', 'CentralAir', ...])])),\n                ('CATBOOST_TESTE',\n                 <catboost.core.CatBoostRegressor object at 0x000002A270D9C0A0>)])",
      "text/html": "<style>#sk-container-id-1 {color: black;background-color: white;}#sk-container-id-1 pre{padding: 0;}#sk-container-id-1 div.sk-toggleable {background-color: white;}#sk-container-id-1 label.sk-toggleable__label {cursor: pointer;display: block;width: 100%;margin-bottom: 0;padding: 0.3em;box-sizing: border-box;text-align: center;}#sk-container-id-1 label.sk-toggleable__label-arrow:before {content: \"▸\";float: left;margin-right: 0.25em;color: #696969;}#sk-container-id-1 label.sk-toggleable__label-arrow:hover:before {color: black;}#sk-container-id-1 div.sk-estimator:hover label.sk-toggleable__label-arrow:before {color: black;}#sk-container-id-1 div.sk-toggleable__content {max-height: 0;max-width: 0;overflow: hidden;text-align: left;background-color: #f0f8ff;}#sk-container-id-1 div.sk-toggleable__content pre {margin: 0.2em;color: black;border-radius: 0.25em;background-color: #f0f8ff;}#sk-container-id-1 input.sk-toggleable__control:checked~div.sk-toggleable__content {max-height: 200px;max-width: 100%;overflow: auto;}#sk-container-id-1 input.sk-toggleable__control:checked~label.sk-toggleable__label-arrow:before {content: \"▾\";}#sk-container-id-1 div.sk-estimator input.sk-toggleable__control:checked~label.sk-toggleable__label {background-color: #d4ebff;}#sk-container-id-1 div.sk-label input.sk-toggleable__control:checked~label.sk-toggleable__label {background-color: #d4ebff;}#sk-container-id-1 input.sk-hidden--visually {border: 0;clip: rect(1px 1px 1px 1px);clip: rect(1px, 1px, 1px, 1px);height: 1px;margin: -1px;overflow: hidden;padding: 0;position: absolute;width: 1px;}#sk-container-id-1 div.sk-estimator {font-family: monospace;background-color: #f0f8ff;border: 1px dotted black;border-radius: 0.25em;box-sizing: border-box;margin-bottom: 0.5em;}#sk-container-id-1 div.sk-estimator:hover {background-color: #d4ebff;}#sk-container-id-1 div.sk-parallel-item::after {content: \"\";width: 100%;border-bottom: 1px solid gray;flex-grow: 1;}#sk-container-id-1 div.sk-label:hover label.sk-toggleable__label {background-color: #d4ebff;}#sk-container-id-1 div.sk-serial::before {content: \"\";position: absolute;border-left: 1px solid gray;box-sizing: border-box;top: 0;bottom: 0;left: 50%;z-index: 0;}#sk-container-id-1 div.sk-serial {display: flex;flex-direction: column;align-items: center;background-color: white;padding-right: 0.2em;padding-left: 0.2em;position: relative;}#sk-container-id-1 div.sk-item {position: relative;z-index: 1;}#sk-container-id-1 div.sk-parallel {display: flex;align-items: stretch;justify-content: center;background-color: white;position: relative;}#sk-container-id-1 div.sk-item::before, #sk-container-id-1 div.sk-parallel-item::before {content: \"\";position: absolute;border-left: 1px solid gray;box-sizing: border-box;top: 0;bottom: 0;left: 50%;z-index: -1;}#sk-container-id-1 div.sk-parallel-item {display: flex;flex-direction: column;z-index: 1;position: relative;background-color: white;}#sk-container-id-1 div.sk-parallel-item:first-child::after {align-self: flex-end;width: 50%;}#sk-container-id-1 div.sk-parallel-item:last-child::after {align-self: flex-start;width: 50%;}#sk-container-id-1 div.sk-parallel-item:only-child::after {width: 0;}#sk-container-id-1 div.sk-dashed-wrapped {border: 1px dashed gray;margin: 0 0.4em 0.5em 0.4em;box-sizing: border-box;padding-bottom: 0.4em;background-color: white;}#sk-container-id-1 div.sk-label label {font-family: monospace;font-weight: bold;display: inline-block;line-height: 1.2em;}#sk-container-id-1 div.sk-label-container {text-align: center;}#sk-container-id-1 div.sk-container {/* jupyter's `normalize.less` sets `[hidden] { display: none; }` but bootstrap.min.css set `[hidden] { display: none !important; }` so we also need the `!important` here to be able to override the default hidden behavior on the sphinx rendered scikit-learn.org. See: https://github.com/scikit-learn/scikit-learn/issues/21755 */display: inline-block !important;position: relative;}#sk-container-id-1 div.sk-text-repr-fallback {display: none;}</style><div id=\"sk-container-id-1\" class=\"sk-top-container\"><div class=\"sk-text-repr-fallback\"><pre>Pipeline(steps=[(&#x27;PREP&#x27;,\n                 ColumnTransformer(transformers=[(&#x27;NUMERICOS&#x27;,\n                                                  Pipeline(steps=[(&#x27;NUM_IMPUTER&#x27;,\n                                                                   SimpleImputer(strategy=&#x27;median&#x27;)),\n                                                                  (&#x27;STD_SCALER&#x27;,\n                                                                   StandardScaler()),\n                                                                  (&#x27;PCA&#x27;,\n                                                                   PCA())]),\n                                                  [&#x27;Id&#x27;, &#x27;LotFrontage&#x27;,\n                                                   &#x27;LotArea&#x27;, &#x27;OverallQual&#x27;,\n                                                   &#x27;OverallCond&#x27;, &#x27;YearBuilt&#x27;,\n                                                   &#x27;YearRemodAdd&#x27;, &#x27;MasVnrArea&#x27;,\n                                                   &#x27;BsmtFinSF1&#x27;, &#x27;BsmtFinSF2&#x27;,\n                                                   &#x27;BsmtUnfSF&#x27;, &#x27;TotalBsmtSF&#x27;,\n                                                   &#x27;1stFlrSF&#x27;, &#x27;2ndFlr...\n                                                   &#x27;LandSlope&#x27;, &#x27;Neighborhood&#x27;,\n                                                   &#x27;Condition1&#x27;, &#x27;Condition2&#x27;,\n                                                   &#x27;BldgType&#x27;, &#x27;HouseStyle&#x27;,\n                                                   &#x27;RoofStyle&#x27;, &#x27;RoofMatl&#x27;,\n                                                   &#x27;Exterior1st&#x27;, &#x27;Exterior2nd&#x27;,\n                                                   &#x27;MasVnrType&#x27;, &#x27;ExterQual&#x27;,\n                                                   &#x27;ExterCond&#x27;, &#x27;Foundation&#x27;,\n                                                   &#x27;BsmtQual&#x27;, &#x27;BsmtCond&#x27;,\n                                                   &#x27;BsmtExposure&#x27;,\n                                                   &#x27;BsmtFinType1&#x27;,\n                                                   &#x27;BsmtFinType2&#x27;, &#x27;Heating&#x27;,\n                                                   &#x27;HeatingQC&#x27;, &#x27;CentralAir&#x27;, ...])])),\n                (&#x27;CATBOOST_TESTE&#x27;,\n                 &lt;catboost.core.CatBoostRegressor object at 0x000002A270D9C0A0&gt;)])</pre><b>In a Jupyter environment, please rerun this cell to show the HTML representation or trust the notebook. <br />On GitHub, the HTML representation is unable to render, please try loading this page with nbviewer.org.</b></div><div class=\"sk-container\" hidden><div class=\"sk-item sk-dashed-wrapped\"><div class=\"sk-label-container\"><div class=\"sk-label sk-toggleable\"><input class=\"sk-toggleable__control sk-hidden--visually\" id=\"sk-estimator-id-1\" type=\"checkbox\" ><label for=\"sk-estimator-id-1\" class=\"sk-toggleable__label sk-toggleable__label-arrow\">Pipeline</label><div class=\"sk-toggleable__content\"><pre>Pipeline(steps=[(&#x27;PREP&#x27;,\n                 ColumnTransformer(transformers=[(&#x27;NUMERICOS&#x27;,\n                                                  Pipeline(steps=[(&#x27;NUM_IMPUTER&#x27;,\n                                                                   SimpleImputer(strategy=&#x27;median&#x27;)),\n                                                                  (&#x27;STD_SCALER&#x27;,\n                                                                   StandardScaler()),\n                                                                  (&#x27;PCA&#x27;,\n                                                                   PCA())]),\n                                                  [&#x27;Id&#x27;, &#x27;LotFrontage&#x27;,\n                                                   &#x27;LotArea&#x27;, &#x27;OverallQual&#x27;,\n                                                   &#x27;OverallCond&#x27;, &#x27;YearBuilt&#x27;,\n                                                   &#x27;YearRemodAdd&#x27;, &#x27;MasVnrArea&#x27;,\n                                                   &#x27;BsmtFinSF1&#x27;, &#x27;BsmtFinSF2&#x27;,\n                                                   &#x27;BsmtUnfSF&#x27;, &#x27;TotalBsmtSF&#x27;,\n                                                   &#x27;1stFlrSF&#x27;, &#x27;2ndFlr...\n                                                   &#x27;LandSlope&#x27;, &#x27;Neighborhood&#x27;,\n                                                   &#x27;Condition1&#x27;, &#x27;Condition2&#x27;,\n                                                   &#x27;BldgType&#x27;, &#x27;HouseStyle&#x27;,\n                                                   &#x27;RoofStyle&#x27;, &#x27;RoofMatl&#x27;,\n                                                   &#x27;Exterior1st&#x27;, &#x27;Exterior2nd&#x27;,\n                                                   &#x27;MasVnrType&#x27;, &#x27;ExterQual&#x27;,\n                                                   &#x27;ExterCond&#x27;, &#x27;Foundation&#x27;,\n                                                   &#x27;BsmtQual&#x27;, &#x27;BsmtCond&#x27;,\n                                                   &#x27;BsmtExposure&#x27;,\n                                                   &#x27;BsmtFinType1&#x27;,\n                                                   &#x27;BsmtFinType2&#x27;, &#x27;Heating&#x27;,\n                                                   &#x27;HeatingQC&#x27;, &#x27;CentralAir&#x27;, ...])])),\n                (&#x27;CATBOOST_TESTE&#x27;,\n                 &lt;catboost.core.CatBoostRegressor object at 0x000002A270D9C0A0&gt;)])</pre></div></div></div><div class=\"sk-serial\"><div class=\"sk-item sk-dashed-wrapped\"><div class=\"sk-label-container\"><div class=\"sk-label sk-toggleable\"><input class=\"sk-toggleable__control sk-hidden--visually\" id=\"sk-estimator-id-2\" type=\"checkbox\" ><label for=\"sk-estimator-id-2\" class=\"sk-toggleable__label sk-toggleable__label-arrow\">PREP: ColumnTransformer</label><div class=\"sk-toggleable__content\"><pre>ColumnTransformer(transformers=[(&#x27;NUMERICOS&#x27;,\n                                 Pipeline(steps=[(&#x27;NUM_IMPUTER&#x27;,\n                                                  SimpleImputer(strategy=&#x27;median&#x27;)),\n                                                 (&#x27;STD_SCALER&#x27;,\n                                                  StandardScaler()),\n                                                 (&#x27;PCA&#x27;, PCA())]),\n                                 [&#x27;Id&#x27;, &#x27;LotFrontage&#x27;, &#x27;LotArea&#x27;, &#x27;OverallQual&#x27;,\n                                  &#x27;OverallCond&#x27;, &#x27;YearBuilt&#x27;, &#x27;YearRemodAdd&#x27;,\n                                  &#x27;MasVnrArea&#x27;, &#x27;BsmtFinSF1&#x27;, &#x27;BsmtFinSF2&#x27;,\n                                  &#x27;BsmtUnfSF&#x27;, &#x27;TotalBsmtSF&#x27;, &#x27;1stFlrSF&#x27;,\n                                  &#x27;2ndFlrSF&#x27;, &#x27;LowQualFinSF&#x27;, &#x27;GrLi...\n                                 [&#x27;MSSubClass&#x27;, &#x27;MSZoning&#x27;, &#x27;Street&#x27;, &#x27;Alley&#x27;,\n                                  &#x27;LotShape&#x27;, &#x27;LandContour&#x27;, &#x27;Utilities&#x27;,\n                                  &#x27;LotConfig&#x27;, &#x27;LandSlope&#x27;, &#x27;Neighborhood&#x27;,\n                                  &#x27;Condition1&#x27;, &#x27;Condition2&#x27;, &#x27;BldgType&#x27;,\n                                  &#x27;HouseStyle&#x27;, &#x27;RoofStyle&#x27;, &#x27;RoofMatl&#x27;,\n                                  &#x27;Exterior1st&#x27;, &#x27;Exterior2nd&#x27;, &#x27;MasVnrType&#x27;,\n                                  &#x27;ExterQual&#x27;, &#x27;ExterCond&#x27;, &#x27;Foundation&#x27;,\n                                  &#x27;BsmtQual&#x27;, &#x27;BsmtCond&#x27;, &#x27;BsmtExposure&#x27;,\n                                  &#x27;BsmtFinType1&#x27;, &#x27;BsmtFinType2&#x27;, &#x27;Heating&#x27;,\n                                  &#x27;HeatingQC&#x27;, &#x27;CentralAir&#x27;, ...])])</pre></div></div></div><div class=\"sk-parallel\"><div class=\"sk-parallel-item\"><div class=\"sk-item\"><div class=\"sk-label-container\"><div class=\"sk-label sk-toggleable\"><input class=\"sk-toggleable__control sk-hidden--visually\" id=\"sk-estimator-id-3\" type=\"checkbox\" ><label for=\"sk-estimator-id-3\" class=\"sk-toggleable__label sk-toggleable__label-arrow\">NUMERICOS</label><div class=\"sk-toggleable__content\"><pre>[&#x27;Id&#x27;, &#x27;LotFrontage&#x27;, &#x27;LotArea&#x27;, &#x27;OverallQual&#x27;, &#x27;OverallCond&#x27;, &#x27;YearBuilt&#x27;, &#x27;YearRemodAdd&#x27;, &#x27;MasVnrArea&#x27;, &#x27;BsmtFinSF1&#x27;, &#x27;BsmtFinSF2&#x27;, &#x27;BsmtUnfSF&#x27;, &#x27;TotalBsmtSF&#x27;, &#x27;1stFlrSF&#x27;, &#x27;2ndFlrSF&#x27;, &#x27;LowQualFinSF&#x27;, &#x27;GrLivArea&#x27;, &#x27;BsmtFullBath&#x27;, &#x27;BsmtHalfBath&#x27;, &#x27;FullBath&#x27;, &#x27;HalfBath&#x27;, &#x27;BedroomAbvGr&#x27;, &#x27;KitchenAbvGr&#x27;, &#x27;TotRmsAbvGrd&#x27;, &#x27;Fireplaces&#x27;, &#x27;GarageYrBlt&#x27;, &#x27;GarageCars&#x27;, &#x27;GarageArea&#x27;, &#x27;WoodDeckSF&#x27;, &#x27;OpenPorchSF&#x27;, &#x27;EnclosedPorch&#x27;, &#x27;3SsnPorch&#x27;, &#x27;ScreenPorch&#x27;, &#x27;PoolArea&#x27;, &#x27;MiscVal&#x27;, &#x27;MoSold&#x27;, &#x27;YrSold&#x27;]</pre></div></div></div><div class=\"sk-serial\"><div class=\"sk-item\"><div class=\"sk-serial\"><div class=\"sk-item\"><div class=\"sk-estimator sk-toggleable\"><input class=\"sk-toggleable__control sk-hidden--visually\" id=\"sk-estimator-id-4\" type=\"checkbox\" ><label for=\"sk-estimator-id-4\" class=\"sk-toggleable__label sk-toggleable__label-arrow\">SimpleImputer</label><div class=\"sk-toggleable__content\"><pre>SimpleImputer(strategy=&#x27;median&#x27;)</pre></div></div></div><div class=\"sk-item\"><div class=\"sk-estimator sk-toggleable\"><input class=\"sk-toggleable__control sk-hidden--visually\" id=\"sk-estimator-id-5\" type=\"checkbox\" ><label for=\"sk-estimator-id-5\" class=\"sk-toggleable__label sk-toggleable__label-arrow\">StandardScaler</label><div class=\"sk-toggleable__content\"><pre>StandardScaler()</pre></div></div></div><div class=\"sk-item\"><div class=\"sk-estimator sk-toggleable\"><input class=\"sk-toggleable__control sk-hidden--visually\" id=\"sk-estimator-id-6\" type=\"checkbox\" ><label for=\"sk-estimator-id-6\" class=\"sk-toggleable__label sk-toggleable__label-arrow\">PCA</label><div class=\"sk-toggleable__content\"><pre>PCA()</pre></div></div></div></div></div></div></div></div><div class=\"sk-parallel-item\"><div class=\"sk-item\"><div class=\"sk-label-container\"><div class=\"sk-label sk-toggleable\"><input class=\"sk-toggleable__control sk-hidden--visually\" id=\"sk-estimator-id-7\" type=\"checkbox\" ><label for=\"sk-estimator-id-7\" class=\"sk-toggleable__label sk-toggleable__label-arrow\">CATEGORICOS</label><div class=\"sk-toggleable__content\"><pre>[&#x27;MSSubClass&#x27;, &#x27;MSZoning&#x27;, &#x27;Street&#x27;, &#x27;Alley&#x27;, &#x27;LotShape&#x27;, &#x27;LandContour&#x27;, &#x27;Utilities&#x27;, &#x27;LotConfig&#x27;, &#x27;LandSlope&#x27;, &#x27;Neighborhood&#x27;, &#x27;Condition1&#x27;, &#x27;Condition2&#x27;, &#x27;BldgType&#x27;, &#x27;HouseStyle&#x27;, &#x27;RoofStyle&#x27;, &#x27;RoofMatl&#x27;, &#x27;Exterior1st&#x27;, &#x27;Exterior2nd&#x27;, &#x27;MasVnrType&#x27;, &#x27;ExterQual&#x27;, &#x27;ExterCond&#x27;, &#x27;Foundation&#x27;, &#x27;BsmtQual&#x27;, &#x27;BsmtCond&#x27;, &#x27;BsmtExposure&#x27;, &#x27;BsmtFinType1&#x27;, &#x27;BsmtFinType2&#x27;, &#x27;Heating&#x27;, &#x27;HeatingQC&#x27;, &#x27;CentralAir&#x27;, &#x27;Electrical&#x27;, &#x27;KitchenQual&#x27;, &#x27;Functional&#x27;, &#x27;FireplaceQu&#x27;, &#x27;GarageType&#x27;, &#x27;GarageFinish&#x27;, &#x27;GarageQual&#x27;, &#x27;GarageCond&#x27;, &#x27;PavedDrive&#x27;, &#x27;PoolQC&#x27;, &#x27;Fence&#x27;, &#x27;MiscFeature&#x27;, &#x27;SaleType&#x27;, &#x27;SaleCondition&#x27;, &#x27;HasPool&#x27;, &#x27;MinscFeature&#x27;]</pre></div></div></div><div class=\"sk-serial\"><div class=\"sk-item\"><div class=\"sk-serial\"><div class=\"sk-item\"><div class=\"sk-estimator sk-toggleable\"><input class=\"sk-toggleable__control sk-hidden--visually\" id=\"sk-estimator-id-8\" type=\"checkbox\" ><label for=\"sk-estimator-id-8\" class=\"sk-toggleable__label sk-toggleable__label-arrow\">SimpleImputer</label><div class=\"sk-toggleable__content\"><pre>SimpleImputer(strategy=&#x27;most_frequent&#x27;)</pre></div></div></div><div class=\"sk-item\"><div class=\"sk-estimator sk-toggleable\"><input class=\"sk-toggleable__control sk-hidden--visually\" id=\"sk-estimator-id-9\" type=\"checkbox\" ><label for=\"sk-estimator-id-9\" class=\"sk-toggleable__label sk-toggleable__label-arrow\">OneHotEncoder</label><div class=\"sk-toggleable__content\"><pre>OneHotEncoder(drop=&#x27;first&#x27;, handle_unknown=&#x27;ignore&#x27;, min_frequency=0.1)</pre></div></div></div></div></div></div></div></div></div></div><div class=\"sk-item\"><div class=\"sk-estimator sk-toggleable\"><input class=\"sk-toggleable__control sk-hidden--visually\" id=\"sk-estimator-id-10\" type=\"checkbox\" ><label for=\"sk-estimator-id-10\" class=\"sk-toggleable__label sk-toggleable__label-arrow\">CatBoostRegressor</label><div class=\"sk-toggleable__content\"><pre>&lt;catboost.core.CatBoostRegressor object at 0x000002A270D9C0A0&gt;</pre></div></div></div></div></div></div></div>"
     },
     "execution_count": 88,
     "metadata": {},
     "output_type": "execute_result"
    }
   ],
   "source": [
    "# Categorical Pipeline\n",
    "# Numerical Pipeline\n",
    "num_imp = SimpleImputer(strategy=\"median\")\n",
    "sca = StandardScaler()\n",
    "pca = PCA()\n",
    "lista_etapas = [(\"NUM_IMPUTER\", num_imp), (\"STD_SCALER\", sca), (\"PCA\", pca)]\n",
    "num_pipeline = Pipeline(lista_etapas)\n",
    "\n",
    "# Categorical Pipeline\n",
    "cat_imp = SimpleImputer(strategy=\"most_frequent\")\n",
    "ohe = OneHotEncoder(drop='first', handle_unknown='ignore', min_frequency=0.1)\n",
    "cat_pipeline = Pipeline([(\"CAT_IMPUTER\", cat_imp), ('ONE_HOT', ohe)])\n",
    "\n",
    "# Pipeline de Preprocessamento\n",
    "pipeline_preprocessamento = [\n",
    "    (\"NUMERICOS\", num_pipeline, num_vars),\n",
    "    (\"CATEGORICOS\", cat_pipeline, cat_vars),\n",
    "]\n",
    "data_prep_pipeline = ColumnTransformer(pipeline_preprocessamento)\n",
    "\n",
    "catboost = CatBoostRegressor(iterations = 5000, depth = 8, verbose = False)\n",
    "cb_pipeline = Pipeline([(\"PREP\", data_prep_pipeline), (\"CATBOOST_TESTE\", catboost)])\n",
    "\n",
    "cb_pipeline.fit(X_train, y_train)\n",
    "\n",
    "y_pred = cb_pipeline.predict(X_test)\n",
    "print(np.sqrt(mean_squared_error(np.exp(y_test), np.exp(y_pred))))"
   ],
   "metadata": {
    "collapsed": false,
    "ExecuteTime": {
     "end_time": "2023-05-20T15:22:26.985226400Z",
     "start_time": "2023-05-20T15:21:37.664089600Z"
    }
   }
  },
  {
   "cell_type": "code",
   "execution_count": 98,
   "outputs": [
    {
     "name": "stdout",
     "output_type": "stream",
     "text": [
      "39224.6856533055\n"
     ]
    },
    {
     "name": "stderr",
     "output_type": "stream",
     "text": [
      "C:\\Users\\lvgui\\anaconda3\\lib\\site-packages\\sklearn\\preprocessing\\_encoders.py:182: UserWarning: Found unknown categories in columns [30] during transform. These unknown categories will be encoded as all zeros\n",
      "  warnings.warn(\n"
     ]
    }
   ],
   "source": [
    "param_grid = {\n",
    "    \"CATBOOST_TESTE__iterations\": [1000, 2500, 5000]\n",
    "}\n",
    "\n",
    "# Categorical Pipeline\n",
    "# Numerical Pipeline\n",
    "num_imp = SimpleImputer(strategy=\"median\")\n",
    "sca = StandardScaler()\n",
    "pca = PCA(n_components=5)\n",
    "lista_etapas = [(\"NUM_IMPUTER\", num_imp), (\"STD_SCALER\", sca), (\"PCA\", pca)]\n",
    "num_pipeline = Pipeline(lista_etapas)\n",
    "\n",
    "# Categorical Pipeline\n",
    "cat_imp = SimpleImputer(strategy=\"most_frequent\")\n",
    "ohe = OneHotEncoder(drop='first', handle_unknown='ignore', min_frequency=0.1)\n",
    "cat_pipeline = Pipeline([(\"CAT_IMPUTER\", cat_imp), ('ONE_HOT', ohe)])\n",
    "\n",
    "# Pipeline de Preprocessamento\n",
    "pipeline_preprocessamento = [\n",
    "    (\"NUMERICOS\", num_pipeline, num_vars),\n",
    "    (\"CATEGORICOS\", cat_pipeline, cat_vars),\n",
    "]\n",
    "data_prep_pipeline = ColumnTransformer(pipeline_preprocessamento)\n",
    "\n",
    "catboost = CatBoostRegressor(iterations = 5000, depth = 8, verbose = False)\n",
    "cb_pipeline = Pipeline([(\"PREP\", data_prep_pipeline), (\"CATBOOST_TESTE\", catboost)])\n",
    "\n",
    "cb_pipeline.fit(X_train, y_train)\n",
    "\n",
    "y_pred = cb_pipeline.predict(X_test)\n",
    "print(np.sqrt(mean_squared_error(np.exp(y_test), np.exp(y_pred))))"
   ],
   "metadata": {
    "collapsed": false,
    "ExecuteTime": {
     "end_time": "2023-05-20T15:38:28.478512100Z",
     "start_time": "2023-05-20T15:38:05.297107600Z"
    }
   }
  },
  {
   "cell_type": "code",
   "execution_count": 99,
   "outputs": [
    {
     "name": "stdout",
     "output_type": "stream",
     "text": [
      "32612.736854060488\n"
     ]
    },
    {
     "name": "stderr",
     "output_type": "stream",
     "text": [
      "C:\\Users\\lvgui\\anaconda3\\lib\\site-packages\\sklearn\\preprocessing\\_encoders.py:182: UserWarning: Found unknown categories in columns [30] during transform. These unknown categories will be encoded as all zeros\n",
      "  warnings.warn(\n"
     ]
    }
   ],
   "source": [
    "# Categorical Pipeline\n",
    "# Numerical Pipeline\n",
    "num_imp = SimpleImputer(strategy=\"median\")\n",
    "sca = StandardScaler()\n",
    "pca = PCA(n_components=5)\n",
    "lista_etapas = [(\"NUM_IMPUTER\", num_imp), (\"STD_SCALER\", sca)]\n",
    "num_pipeline = Pipeline(lista_etapas)\n",
    "\n",
    "# Categorical Pipeline\n",
    "cat_imp = SimpleImputer(strategy=\"most_frequent\")\n",
    "ohe = OneHotEncoder(drop='first', handle_unknown='ignore', min_frequency=0.1)\n",
    "cat_pipeline = Pipeline([(\"CAT_IMPUTER\", cat_imp), ('ONE_HOT', ohe)])\n",
    "\n",
    "# Pipeline de Preprocessamento\n",
    "pipeline_preprocessamento = [\n",
    "    (\"NUMERICOS\", num_pipeline, num_vars),\n",
    "    (\"CATEGORICOS\", cat_pipeline, cat_vars),\n",
    "]\n",
    "data_prep_pipeline = ColumnTransformer(pipeline_preprocessamento)\n",
    "\n",
    "catboost = CatBoostRegressor(iterations = 5000, depth = 8, verbose = False)\n",
    "cb_pipeline = Pipeline([(\"PREP\", data_prep_pipeline), (\"CATBOOST_TESTE\", catboost)])\n",
    "\n",
    "cb_pipeline.fit(X_train, y_train)\n",
    "\n",
    "y_pred = cb_pipeline.predict(X_test)\n",
    "print(np.sqrt(mean_squared_error(np.exp(y_test), np.exp(y_pred))))"
   ],
   "metadata": {
    "collapsed": false,
    "ExecuteTime": {
     "end_time": "2023-05-20T15:39:51.094002200Z",
     "start_time": "2023-05-20T15:39:13.279687Z"
    }
   }
  },
  {
   "cell_type": "code",
   "execution_count": null,
   "outputs": [],
   "source": [],
   "metadata": {
    "collapsed": false
   }
  }
 ],
 "metadata": {
  "kernelspec": {
   "display_name": "Python 3 (ipykernel)",
   "language": "python",
   "name": "python3"
  },
  "language_info": {
   "codemirror_mode": {
    "name": "ipython",
    "version": 3
   },
   "file_extension": ".py",
   "mimetype": "text/x-python",
   "name": "python",
   "nbconvert_exporter": "python",
   "pygments_lexer": "ipython3",
   "version": "3.9.15"
  }
 },
 "nbformat": 4,
 "nbformat_minor": 5
}
